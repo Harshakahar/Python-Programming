{
 "cells": [
  {
   "cell_type": "code",
   "execution_count": 1,
   "id": "4c51b29e",
   "metadata": {},
   "outputs": [],
   "source": [
    "import cv2\n",
    "import numpy as np \n",
    "import os\n",
    "\n",
    "def detectShape(c): \n",
    "    \n",
    "    approx= cv2.approxPolyDP(c, 0.04 * cv2.arcLength(c,True) , True)\n",
    "    if (len(approx) == 3): \n",
    "        shape='triangle' \n",
    "    elif(len(approx)==4): \n",
    "        x , y ,w ,h =cv2.boundingRect(approx)\n",
    "        ratio=float(w)/float(h)\n",
    "        if ratio >0.95 and ratio<1.05:\n",
    "            shape='square'\n",
    "        else:\n",
    "            shape=\"rectangle\" \n",
    "    elif(len(approx)==5):\n",
    "        shape='pentagon' \n",
    "    else:\n",
    "        shape='circle' \n",
    "    return shape \n",
    "\n",
    "path=\"test_images\"\n",
    "img1=os.listdir(path)\n",
    "for i in img1:\n",
    "    im=cv2.imread(os.path.join(path,i))\n",
    "    \n",
    "    gray = cv2.cvtColor(im,cv2.COLOR_BGR2GRAY)  #Convert to grayscale image\n",
    "    edged = cv2.Canny(gray, 170, 255)            #Determine edges of objects in an image\n",
    " \n",
    "    (contours,_) = cv2.findContours(edged,cv2.RETR_EXTERNAL,cv2.CHAIN_APPROX_SIMPLE) #Find contours in an image\n",
    "    for cnt in contours:\n",
    "        moment=cv2.moments(cnt)\n",
    "        if moment[\"m00\"]!=0:\n",
    "            cx = int(moment['m10'] / moment['m00']) \n",
    "            cy = int(moment['m01'] / moment['m00']) \n",
    "        shape=detectShape(cnt) \n",
    "        cv2.drawContours(im,[cnt],-1,(0,255,0),2)\n",
    "        cv2.putText(im,shape,(cx,cy),cv2.FONT_HERSHEY_SIMPLEX,0.5,(0,0,0),2)   \n",
    "    cv2.imshow(i,im)\n",
    "    cv2.waitKey(1000)\n",
    "    cv2.destroyAllWindows()"
   ]
  },
  {
   "cell_type": "code",
   "execution_count": null,
   "id": "b5a3a889",
   "metadata": {},
   "outputs": [],
   "source": []
  },
  {
   "cell_type": "code",
   "execution_count": null,
   "id": "4cc61c14",
   "metadata": {},
   "outputs": [],
   "source": []
  }
 ],
 "metadata": {
  "kernelspec": {
   "display_name": "Python 3 (ipykernel)",
   "language": "python",
   "name": "python3"
  },
  "language_info": {
   "codemirror_mode": {
    "name": "ipython",
    "version": 3
   },
   "file_extension": ".py",
   "mimetype": "text/x-python",
   "name": "python",
   "nbconvert_exporter": "python",
   "pygments_lexer": "ipython3",
   "version": "3.10.4"
  }
 },
 "nbformat": 4,
 "nbformat_minor": 5
}
